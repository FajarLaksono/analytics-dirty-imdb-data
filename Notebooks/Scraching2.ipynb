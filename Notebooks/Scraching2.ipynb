{
 "cells": [
  {
   "cell_type": "markdown",
   "id": "aa07d3a0",
   "metadata": {},
   "source": [
    "# Eye Health Analysis With Machine Learning Models\n",
    "**Datasets :** /../Datasets/Dirty_imdb_top_1000.csv\n",
    "\n",
    "**Author   :** Fajar Laksono \n",
    "\n",
    "**Github   :** http://fajarlaksono.github.io/"
   ]
  },
  {
   "cell_type": "markdown",
   "id": "4bab27e5",
   "metadata": {},
   "source": [
    "https://docs.google.com/document/d/1HNaIX8a1rqtNvj0xQJNNJ9jK4zM_AZw1Vr96yaS7nWY/edit?tab=t.0#heading=h.ixompnlae5qn"
   ]
  },
  {
   "cell_type": "markdown",
   "id": "a09a10d9",
   "metadata": {},
   "source": [
    "Todo: \n",
    "1. Overview\n",
    "    - Background and Overview\n",
    "    - Probelm Statement\n",
    "    - Research Question\n",
    "    - Methodology\n",
    "    - Data Collection\n",
    "    - Data Description\n",
    "    - Data Collection Procedures\n",
    "2. Exploratory Data Analysis EDA\n",
    "3. Descriptive Analysis  \n",
    "    - Introduction\n",
    "    - Continuous Variables\n",
    "    - Categorical Variables\n",
    "    - Bivariate Analysis\n",
    "        - Continuous Variable Against Target Variable\n",
    "        - T-Test (Continuous Variable)\n",
    "        - Categorical Variable Against Target Variable\n",
    "        - Chi Square Test for Categorical Variables\n",
    "        - Correlation\n",
    "    - Graphs and Charts \n",
    "4. DATA VISUALIZATION\n",
    "    - Demographic\n",
    "    - Summary\n",
    "5. PRESCRIPTIVE ANALYTICS\n",
    "    - Introduction \n",
    "    - Model Performance Evaluation\n",
    "    - Confusion Matrix\n",
    "    - Classification Metrics\n",
    "    - Accuracy and AUC\n",
    "    - Feature Importance (Model Coefficients)\n",
    "    - Prescriptive Analytics Recommendations\n",
    "    - SmartPLS Model: Structural Relationship Analysis\n",
    "    - Influence on Default Risk\n",
    "    - Latent Variable Composition\n",
    "    - Practical Implications\n",
    "    - Integration with Logistic Regression Findings\n",
    "    - Conclusion\n",
    "6. Discussions\n",
    "    - Descriptive Analysis\n",
    "    - Data Visualisation\n",
    "    - Predictive Analysis\n",
    "7. RECOMMENDATIONS\n",
    "    - Execute Risk-Based Monitoring Utilizing Payment History\n",
    "    - Modify Credit Limits According to Utilization and Repayment Patterns\n",
    "    - Integrate sophisticated machine learning models to enhance precision.\n",
    "    - Guarantee Ethical Utilization of Predictive Analytics via Fairness Audits\n",
    "\n",
    "\n",
    "\n",
    "\n",
    "\n",
    "\n",
    "\n",
    "\n",
    "\n",
    "\n",
    "\n",
    "\n",
    "\n",
    "\n",
    "\n",
    "\n"
   ]
  },
  {
   "cell_type": "markdown",
   "id": "deb60ccd",
   "metadata": {},
   "source": []
  }
 ],
 "metadata": {
  "language_info": {
   "name": "python"
  }
 },
 "nbformat": 4,
 "nbformat_minor": 5
}
