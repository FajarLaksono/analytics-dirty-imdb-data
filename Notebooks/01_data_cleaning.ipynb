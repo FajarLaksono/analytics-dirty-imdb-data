{
 "cells": [
  {
   "cell_type": "markdown",
   "id": "aa07d3a0",
   "metadata": {},
   "source": [
    "# Dirty IMDb Top 1000 Movies Data Cleaning\n",
    "**Datasets :** [Dirty_imdb_top_1000.csv](../Datasets/Dirty_imdb_top_1000.csv)\n",
    "\n",
    "**Author   :** Fajar Laksono \n",
    "\n",
    "**Github   :** http://fajarlaksono.github.io/"
   ]
  },
  {
   "cell_type": "markdown",
   "id": "131448df",
   "metadata": {},
   "source": [
    "## 1. Overview\n",
    "\n",
    "This project focuses on the understanding and preparing the data sets of **Dirty IMDb Top 1000 Movies** (`Dirty_imdb_top_1000.csv`), Which is provided in a \"dirty\" or an unclear format. The dataset contains multiple issues such as missing required columns, incomplete values, and inconsistent formating that prevent us to have futher of extracting any insight from the data set. \n",
    "\n",
    "## 2. Objectives\n",
    "The primarly objective of this project is to identify and clean the issues in order to produce a more reliable dataset that can serve aas a foundation for meaningful analysis.\n",
    "\n",
    "Key steps in this project will include:\n",
    "- Identifying data quality issues.\n",
    "- Retriving the column country.\n",
    "- Cleaning and resolving the issues.\n",
    "- Producing a cleaned version of the dataset.\n",
    "\n",
    "The dataset contains 1,000 movies from various countries. As part of the insight extraction process, it is required for us to recover the missing column that indicates each movie's country of origin.\n",
    "\n",
    "By systematically addressing these problems, we aim to transform the raw dataset into a dependable resource for exploratory and descriptive analysis. The actual extraction of insights will be conducted in the subsequent project."
   ]
  },
  {
   "cell_type": "markdown",
   "id": "0467fb3c",
   "metadata": {},
   "source": [
    "## 3. Preparation"
   ]
  },
  {
   "cell_type": "markdown",
   "id": "11a83105",
   "metadata": {},
   "source": [
    "### 3.1. Import Libraries"
   ]
  },
  {
   "cell_type": "code",
   "execution_count": 100,
   "id": "5441992b",
   "metadata": {},
   "outputs": [
    {
     "name": "stdout",
     "output_type": "stream",
     "text": [
      "Pandas Version: 2.2.3\n",
      "Current Working Directory: D:\\Project\\Github\\FajarLaksono\\analytics-dirty-imdb-data\n"
     ]
    }
   ],
   "source": [
    "import pandas as pd\n",
    "import os\n",
    "\n",
    "print(\"Pandas Version:\", pd.__version__)\n",
    "print(\"Current Working Directory:\", os.getcwd())"
   ]
  },
  {
   "cell_type": "markdown",
   "id": "ad8bdad6",
   "metadata": {},
   "source": [
    "### 3.2. Load dataset"
   ]
  },
  {
   "cell_type": "code",
   "execution_count": 117,
   "id": "d0272b32",
   "metadata": {},
   "outputs": [],
   "source": [
    "dataset_path = 'Datasets/01_Raw/Dirty_imdb_top_1000.csv'\n",
    "df = pd.read_csv(dataset_path)"
   ]
  },
  {
   "cell_type": "markdown",
   "id": "e5b71b06",
   "metadata": {},
   "source": [
    "## 4. Exploratory Data Analysis (EDA)"
   ]
  },
  {
   "cell_type": "markdown",
   "id": "17f9c87b",
   "metadata": {},
   "source": [
    "### 4.1. Data Preview"
   ]
  },
  {
   "cell_type": "code",
   "execution_count": 102,
   "id": "bd3e46a5",
   "metadata": {},
   "outputs": [
    {
     "data": {
      "application/vnd.microsoft.datawrangler.viewer.v0+json": {
       "columns": [
        {
         "name": "index",
         "rawType": "int64",
         "type": "integer"
        },
        {
         "name": "Poster_Link",
         "rawType": "object",
         "type": "string"
        },
        {
         "name": "Series_Title",
         "rawType": "object",
         "type": "string"
        },
        {
         "name": "Released_Year",
         "rawType": "float64",
         "type": "float"
        },
        {
         "name": "Certificate",
         "rawType": "object",
         "type": "unknown"
        },
        {
         "name": "Runtime",
         "rawType": "object",
         "type": "string"
        },
        {
         "name": "IMDB_Rating",
         "rawType": "float64",
         "type": "float"
        },
        {
         "name": "Overview",
         "rawType": "object",
         "type": "unknown"
        },
        {
         "name": "Meta_score",
         "rawType": "float64",
         "type": "float"
        },
        {
         "name": "Star1",
         "rawType": "object",
         "type": "string"
        },
        {
         "name": "Star2",
         "rawType": "object",
         "type": "unknown"
        },
        {
         "name": "Star3",
         "rawType": "object",
         "type": "string"
        },
        {
         "name": "Star4",
         "rawType": "object",
         "type": "unknown"
        },
        {
         "name": "No_of_Votes",
         "rawType": "float64",
         "type": "float"
        },
        {
         "name": "Gross",
         "rawType": "object",
         "type": "unknown"
        },
        {
         "name": "Director_Genre",
         "rawType": "object",
         "type": "string"
        }
       ],
       "ref": "881ac21f-fa4d-45c5-8bec-186d19e7f1bb",
       "rows": [
        [
         "0",
         " https://m.media-amazon.com/images/M/MV5BMDFkYTc0MGEtZmNhMC00ZDIzLWFmNTEtODM1ZmRlYWMwMWFmXkEyXkFqcGdeQXVyMTMxODk2OTU@._V1_UX67_CR0,0,67,98_AL_.jpg ",
         "the shawshank redemption",
         "1994.0",
         null,
         " 142 min ",
         "9.3",
         "Two imprisoned men bond over a number of years, finding solace and eventual redemption through acts of common decency.",
         "80.0",
         "Tim @ Robbins",
         null,
         "Bob Gunton",
         "William Sadler",
         "2343110.0",
         "28,341,469",
         " Frank Darabont *Drama"
        ],
        [
         "1",
         "https://m.media-amazon.com/images/M/MV5BM2MyNjYxNmUtYTAwNi00MTYxLWJmNWYtYzZlODY3ZTk3OTFlXkEyXkFqcGdeQXVyNzkwMjQ5NzM@._V1_UY98_CR1,0,67,98_AL_.jpg",
         " THE GODFATHER ",
         "1972.0",
         "A",
         " 175 min ",
         "9.2",
         "An organized crime dynasty's aging patriarch transfers control of his clandestine empire to his reluctant son.",
         "100.0",
         "Marlon @ Brando",
         null,
         " James Caan ",
         " Diane Keaton ",
         "1620367.0",
         null,
         "Francis Ford Coppola*Crime, Drama"
        ],
        [
         "2",
         "https://m.media-amazon.com/images/M/MV5BMTMxNTMwODM0NF5BMl5BanBnXkFtZTcwODAyMTk2Mw@@._V1_UX67_CR0,0,67,98_AL_.jpg",
         "The Dark Knight",
         "2008.0",
         " UA ",
         "152 min",
         "9.0",
         " When the menace known as the Joker wreaks havoc and chaos on the people of Gotham, Batman must accept one of the greatest psychological and physical tests of his ability to fight injustice. ",
         "84.0",
         " @ Christian @ Bale @ ",
         "Heath Ledger",
         "Aaron Eckhart",
         "Michael Caine",
         "2303232.0",
         "534,858,444",
         " Christopher Nolan * Action, Crime, Drama "
        ],
        [
         "3",
         "https://m.media-amazon.com/images/M/MV5BMWMwMGQzZTItY2JlNC00OWZiLWIyMDctNDk2ZDQ2YjRjMWQ0XkEyXkFqcGdeQXVyNzkwMjQ5NzM@._V1_UY98_CR1,0,67,98_AL_.jpg",
         "THE GODFATHER: PART II",
         "1974.0",
         " A ",
         "202 min",
         null,
         null,
         "90.0",
         " @ Al @ Pacino @ ",
         null,
         "Robert Duvall",
         " Diane Keaton ",
         null,
         null,
         " Francis Ford Coppola * Crime, Drama "
        ],
        [
         "4",
         "https://m.media-amazon.com/images/M/MV5BMWU4N2FjNzYtNTVkNC00NzQ0LTg0MjAtYTJlMjFhNGUxZDFmXkEyXkFqcGdeQXVyNjc1NTYyMjg@._V1_UX67_CR0,0,67,98_AL_.jpg",
         " 12 angry men ",
         "1957.0",
         " U ",
         "96 min",
         "9.0",
         "A jury holdout attempts to prevent a miscarriage of justice by forcing his colleagues to reconsider the evidence.",
         "96.0",
         " @ Henry @ Fonda @ ",
         " Lee J. Cobb ",
         "Martin Balsam",
         null,
         "689845.0",
         "4,360,000",
         "Sidney Lumet*Crime, Drama"
        ]
       ],
       "shape": {
        "columns": 15,
        "rows": 5
       }
      },
      "text/html": [
       "<div>\n",
       "<style scoped>\n",
       "    .dataframe tbody tr th:only-of-type {\n",
       "        vertical-align: middle;\n",
       "    }\n",
       "\n",
       "    .dataframe tbody tr th {\n",
       "        vertical-align: top;\n",
       "    }\n",
       "\n",
       "    .dataframe thead th {\n",
       "        text-align: right;\n",
       "    }\n",
       "</style>\n",
       "<table border=\"1\" class=\"dataframe\">\n",
       "  <thead>\n",
       "    <tr style=\"text-align: right;\">\n",
       "      <th></th>\n",
       "      <th>Poster_Link</th>\n",
       "      <th>Series_Title</th>\n",
       "      <th>Released_Year</th>\n",
       "      <th>Certificate</th>\n",
       "      <th>Runtime</th>\n",
       "      <th>IMDB_Rating</th>\n",
       "      <th>Overview</th>\n",
       "      <th>Meta_score</th>\n",
       "      <th>Star1</th>\n",
       "      <th>Star2</th>\n",
       "      <th>Star3</th>\n",
       "      <th>Star4</th>\n",
       "      <th>No_of_Votes</th>\n",
       "      <th>Gross</th>\n",
       "      <th>Director_Genre</th>\n",
       "    </tr>\n",
       "  </thead>\n",
       "  <tbody>\n",
       "    <tr>\n",
       "      <th>0</th>\n",
       "      <td>https://m.media-amazon.com/images/M/MV5BMDFkY...</td>\n",
       "      <td>the shawshank redemption</td>\n",
       "      <td>1994.0</td>\n",
       "      <td>NaN</td>\n",
       "      <td>142 min</td>\n",
       "      <td>9.3</td>\n",
       "      <td>Two imprisoned men bond over a number of years...</td>\n",
       "      <td>80.0</td>\n",
       "      <td>Tim @ Robbins</td>\n",
       "      <td>NaN</td>\n",
       "      <td>Bob Gunton</td>\n",
       "      <td>William Sadler</td>\n",
       "      <td>2343110.0</td>\n",
       "      <td>28,341,469</td>\n",
       "      <td>Frank Darabont *Drama</td>\n",
       "    </tr>\n",
       "    <tr>\n",
       "      <th>1</th>\n",
       "      <td>https://m.media-amazon.com/images/M/MV5BM2MyNj...</td>\n",
       "      <td>THE GODFATHER</td>\n",
       "      <td>1972.0</td>\n",
       "      <td>A</td>\n",
       "      <td>175 min</td>\n",
       "      <td>9.2</td>\n",
       "      <td>An organized crime dynasty's aging patriarch t...</td>\n",
       "      <td>100.0</td>\n",
       "      <td>Marlon @ Brando</td>\n",
       "      <td>NaN</td>\n",
       "      <td>James Caan</td>\n",
       "      <td>Diane Keaton</td>\n",
       "      <td>1620367.0</td>\n",
       "      <td>NaN</td>\n",
       "      <td>Francis Ford Coppola*Crime, Drama</td>\n",
       "    </tr>\n",
       "    <tr>\n",
       "      <th>2</th>\n",
       "      <td>https://m.media-amazon.com/images/M/MV5BMTMxNT...</td>\n",
       "      <td>The Dark Knight</td>\n",
       "      <td>2008.0</td>\n",
       "      <td>UA</td>\n",
       "      <td>152 min</td>\n",
       "      <td>9.0</td>\n",
       "      <td>When the menace known as the Joker wreaks hav...</td>\n",
       "      <td>84.0</td>\n",
       "      <td>@ Christian @ Bale @</td>\n",
       "      <td>Heath Ledger</td>\n",
       "      <td>Aaron Eckhart</td>\n",
       "      <td>Michael Caine</td>\n",
       "      <td>2303232.0</td>\n",
       "      <td>534,858,444</td>\n",
       "      <td>Christopher Nolan * Action, Crime, Drama</td>\n",
       "    </tr>\n",
       "    <tr>\n",
       "      <th>3</th>\n",
       "      <td>https://m.media-amazon.com/images/M/MV5BMWMwMG...</td>\n",
       "      <td>THE GODFATHER: PART II</td>\n",
       "      <td>1974.0</td>\n",
       "      <td>A</td>\n",
       "      <td>202 min</td>\n",
       "      <td>NaN</td>\n",
       "      <td>NaN</td>\n",
       "      <td>90.0</td>\n",
       "      <td>@ Al @ Pacino @</td>\n",
       "      <td>NaN</td>\n",
       "      <td>Robert Duvall</td>\n",
       "      <td>Diane Keaton</td>\n",
       "      <td>NaN</td>\n",
       "      <td>NaN</td>\n",
       "      <td>Francis Ford Coppola * Crime, Drama</td>\n",
       "    </tr>\n",
       "    <tr>\n",
       "      <th>4</th>\n",
       "      <td>https://m.media-amazon.com/images/M/MV5BMWU4N2...</td>\n",
       "      <td>12 angry men</td>\n",
       "      <td>1957.0</td>\n",
       "      <td>U</td>\n",
       "      <td>96 min</td>\n",
       "      <td>9.0</td>\n",
       "      <td>A jury holdout attempts to prevent a miscarria...</td>\n",
       "      <td>96.0</td>\n",
       "      <td>@ Henry @ Fonda @</td>\n",
       "      <td>Lee J. Cobb</td>\n",
       "      <td>Martin Balsam</td>\n",
       "      <td>NaN</td>\n",
       "      <td>689845.0</td>\n",
       "      <td>4,360,000</td>\n",
       "      <td>Sidney Lumet*Crime, Drama</td>\n",
       "    </tr>\n",
       "  </tbody>\n",
       "</table>\n",
       "</div>"
      ],
      "text/plain": [
       "                                         Poster_Link  \\\n",
       "0   https://m.media-amazon.com/images/M/MV5BMDFkY...   \n",
       "1  https://m.media-amazon.com/images/M/MV5BM2MyNj...   \n",
       "2  https://m.media-amazon.com/images/M/MV5BMTMxNT...   \n",
       "3  https://m.media-amazon.com/images/M/MV5BMWMwMG...   \n",
       "4  https://m.media-amazon.com/images/M/MV5BMWU4N2...   \n",
       "\n",
       "               Series_Title  Released_Year Certificate    Runtime  \\\n",
       "0  the shawshank redemption         1994.0         NaN   142 min    \n",
       "1            THE GODFATHER          1972.0           A   175 min    \n",
       "2           The Dark Knight         2008.0         UA     152 min   \n",
       "3    THE GODFATHER: PART II         1974.0          A     202 min   \n",
       "4             12 angry men          1957.0          U      96 min   \n",
       "\n",
       "   IMDB_Rating                                           Overview  Meta_score  \\\n",
       "0          9.3  Two imprisoned men bond over a number of years...        80.0   \n",
       "1          9.2  An organized crime dynasty's aging patriarch t...       100.0   \n",
       "2          9.0   When the menace known as the Joker wreaks hav...        84.0   \n",
       "3          NaN                                                NaN        90.0   \n",
       "4          9.0  A jury holdout attempts to prevent a miscarria...        96.0   \n",
       "\n",
       "                    Star1          Star2          Star3           Star4  \\\n",
       "0           Tim @ Robbins            NaN     Bob Gunton  William Sadler   \n",
       "1         Marlon @ Brando            NaN    James Caan    Diane Keaton    \n",
       "2   @ Christian @ Bale @    Heath Ledger  Aaron Eckhart   Michael Caine   \n",
       "3        @ Al @ Pacino @             NaN  Robert Duvall   Diane Keaton    \n",
       "4      @ Henry @ Fonda @    Lee J. Cobb   Martin Balsam             NaN   \n",
       "\n",
       "   No_of_Votes        Gross                              Director_Genre  \n",
       "0    2343110.0   28,341,469                       Frank Darabont *Drama  \n",
       "1    1620367.0          NaN           Francis Ford Coppola*Crime, Drama  \n",
       "2    2303232.0  534,858,444   Christopher Nolan * Action, Crime, Drama   \n",
       "3          NaN          NaN        Francis Ford Coppola * Crime, Drama   \n",
       "4     689845.0    4,360,000                   Sidney Lumet*Crime, Drama  "
      ]
     },
     "execution_count": 102,
     "metadata": {},
     "output_type": "execute_result"
    }
   ],
   "source": [
    "df.head()"
   ]
  },
  {
   "cell_type": "markdown",
   "id": "10577816",
   "metadata": {},
   "source": [
    "### 4.2. Schema"
   ]
  },
  {
   "cell_type": "code",
   "execution_count": 103,
   "id": "d8bfa6aa",
   "metadata": {},
   "outputs": [
    {
     "data": {
      "text/plain": [
       "(1000, 15)"
      ]
     },
     "execution_count": 103,
     "metadata": {},
     "output_type": "execute_result"
    }
   ],
   "source": [
    "df.shape"
   ]
  },
  {
   "cell_type": "code",
   "execution_count": 104,
   "id": "66cb3e93",
   "metadata": {},
   "outputs": [
    {
     "name": "stdout",
     "output_type": "stream",
     "text": [
      "<class 'pandas.core.frame.DataFrame'>\n",
      "RangeIndex: 1000 entries, 0 to 999\n",
      "Data columns (total 15 columns):\n",
      " #   Column          Non-Null Count  Dtype  \n",
      "---  ------          --------------  -----  \n",
      " 0   Poster_Link     902 non-null    object \n",
      " 1   Series_Title    901 non-null    object \n",
      " 2   Released_Year   900 non-null    float64\n",
      " 3   Certificate     813 non-null    object \n",
      " 4   Runtime         900 non-null    object \n",
      " 5   IMDB_Rating     900 non-null    float64\n",
      " 6   Overview        900 non-null    object \n",
      " 7   Meta_score      760 non-null    float64\n",
      " 8   Star1           900 non-null    object \n",
      " 9   Star2           900 non-null    object \n",
      " 10  Star3           900 non-null    object \n",
      " 11  Star4           900 non-null    object \n",
      " 12  No_of_Votes     900 non-null    float64\n",
      " 13  Gross           744 non-null    object \n",
      " 14  Director_Genre  900 non-null    object \n",
      "dtypes: float64(4), object(11)\n",
      "memory usage: 117.3+ KB\n"
     ]
    }
   ],
   "source": [
    "df.info()"
   ]
  },
  {
   "cell_type": "markdown",
   "id": "09267adf",
   "metadata": {},
   "source": [
    "### 4.3. Missing Values"
   ]
  },
  {
   "cell_type": "code",
   "execution_count": 105,
   "id": "bda8a0ca",
   "metadata": {},
   "outputs": [
    {
     "data": {
      "application/vnd.microsoft.datawrangler.viewer.v0+json": {
       "columns": [
        {
         "name": "index",
         "rawType": "object",
         "type": "string"
        },
        {
         "name": "0",
         "rawType": "int64",
         "type": "integer"
        }
       ],
       "ref": "7059aa10-4bef-415e-9cd1-b2ea137adfcb",
       "rows": [
        [
         "Poster_Link",
         "98"
        ],
        [
         "Series_Title",
         "99"
        ],
        [
         "Released_Year",
         "100"
        ],
        [
         "Certificate",
         "187"
        ],
        [
         "Runtime",
         "100"
        ],
        [
         "IMDB_Rating",
         "100"
        ],
        [
         "Overview",
         "100"
        ],
        [
         "Meta_score",
         "240"
        ],
        [
         "Star1",
         "100"
        ],
        [
         "Star2",
         "100"
        ],
        [
         "Star3",
         "100"
        ],
        [
         "Star4",
         "100"
        ],
        [
         "No_of_Votes",
         "100"
        ],
        [
         "Gross",
         "256"
        ],
        [
         "Director_Genre",
         "100"
        ]
       ],
       "shape": {
        "columns": 1,
        "rows": 15
       }
      },
      "text/plain": [
       "Poster_Link        98\n",
       "Series_Title       99\n",
       "Released_Year     100\n",
       "Certificate       187\n",
       "Runtime           100\n",
       "IMDB_Rating       100\n",
       "Overview          100\n",
       "Meta_score        240\n",
       "Star1             100\n",
       "Star2             100\n",
       "Star3             100\n",
       "Star4             100\n",
       "No_of_Votes       100\n",
       "Gross             256\n",
       "Director_Genre    100\n",
       "dtype: int64"
      ]
     },
     "execution_count": 105,
     "metadata": {},
     "output_type": "execute_result"
    }
   ],
   "source": [
    "df.isnull().sum()"
   ]
  },
  {
   "cell_type": "markdown",
   "id": "d008bdc1",
   "metadata": {},
   "source": [
    "### 4.4. Duplications"
   ]
  },
  {
   "cell_type": "code",
   "execution_count": 106,
   "id": "4c5b5bbc",
   "metadata": {},
   "outputs": [
    {
     "data": {
      "text/plain": [
       "np.int64(0)"
      ]
     },
     "execution_count": 106,
     "metadata": {},
     "output_type": "execute_result"
    }
   ],
   "source": [
    "df.duplicated().sum()"
   ]
  },
  {
   "cell_type": "markdown",
   "id": "b268892f",
   "metadata": {},
   "source": [
    "### 4.5. Summary\n",
    "1. <ins>Duplications:</ins> No duplication is detected.\n",
    "2. <ins>Concatenated fields:</ins> Director_Genre field is identified to be Concatenated.\n",
    "3. <ins>Inconsistent Formating:</ins> Formarting Inconsistent is detected in some of the Categorical and Textual colomns. \n",
    "4. <ins>Missing Column:</ins> The data is missing an important column that define the movies' country of origin.\n",
    "5. <ins>Missing Values:</ins> Hundreds of values are missing from the respective columns.\n"
   ]
  },
  {
   "cell_type": "markdown",
   "id": "94f7c4e7",
   "metadata": {},
   "source": [
    "## 5. Data Cleaning"
   ]
  },
  {
   "cell_type": "markdown",
   "id": "d7903cfe",
   "metadata": {},
   "source": [
    "### 5.1. Generate \"ID\" column\n",
    "ID is used to make data cleaning easier."
   ]
  },
  {
   "cell_type": "code",
   "execution_count": 118,
   "id": "436ef197",
   "metadata": {},
   "outputs": [],
   "source": [
    "df.insert(0, 'ID', range(1, len(df) + 1)) "
   ]
  },
  {
   "cell_type": "markdown",
   "id": "ed492e4f",
   "metadata": {},
   "source": [
    "### 5.2. Clean Concatenated Fields"
   ]
  },
  {
   "cell_type": "code",
   "execution_count": 119,
   "id": "89e49c36",
   "metadata": {},
   "outputs": [
    {
     "data": {
      "application/vnd.microsoft.datawrangler.viewer.v0+json": {
       "columns": [
        {
         "name": "index",
         "rawType": "int64",
         "type": "integer"
        },
        {
         "name": "ID",
         "rawType": "int64",
         "type": "integer"
        },
        {
         "name": "Poster_Link",
         "rawType": "object",
         "type": "string"
        },
        {
         "name": "Series_Title",
         "rawType": "object",
         "type": "string"
        },
        {
         "name": "Released_Year",
         "rawType": "float64",
         "type": "float"
        },
        {
         "name": "Certificate",
         "rawType": "object",
         "type": "unknown"
        },
        {
         "name": "Runtime",
         "rawType": "object",
         "type": "string"
        },
        {
         "name": "IMDB_Rating",
         "rawType": "float64",
         "type": "float"
        },
        {
         "name": "Overview",
         "rawType": "object",
         "type": "unknown"
        },
        {
         "name": "Meta_score",
         "rawType": "float64",
         "type": "float"
        },
        {
         "name": "Star1",
         "rawType": "object",
         "type": "string"
        },
        {
         "name": "Star2",
         "rawType": "object",
         "type": "unknown"
        },
        {
         "name": "Star3",
         "rawType": "object",
         "type": "string"
        },
        {
         "name": "Star4",
         "rawType": "object",
         "type": "unknown"
        },
        {
         "name": "No_of_Votes",
         "rawType": "float64",
         "type": "float"
        },
        {
         "name": "Gross",
         "rawType": "object",
         "type": "unknown"
        },
        {
         "name": "Director_Name",
         "rawType": "object",
         "type": "string"
        },
        {
         "name": "Genre",
         "rawType": "object",
         "type": "string"
        }
       ],
       "ref": "bde750f2-792d-4bdb-a65c-932753af1344",
       "rows": [
        [
         "0",
         "1",
         " https://m.media-amazon.com/images/M/MV5BMDFkYTc0MGEtZmNhMC00ZDIzLWFmNTEtODM1ZmRlYWMwMWFmXkEyXkFqcGdeQXVyMTMxODk2OTU@._V1_UX67_CR0,0,67,98_AL_.jpg ",
         "the shawshank redemption",
         "1994.0",
         null,
         " 142 min ",
         "9.3",
         "Two imprisoned men bond over a number of years, finding solace and eventual redemption through acts of common decency.",
         "80.0",
         "Tim @ Robbins",
         null,
         "Bob Gunton",
         "William Sadler",
         "2343110.0",
         "28,341,469",
         " Frank Darabont ",
         "Drama"
        ],
        [
         "1",
         "2",
         "https://m.media-amazon.com/images/M/MV5BM2MyNjYxNmUtYTAwNi00MTYxLWJmNWYtYzZlODY3ZTk3OTFlXkEyXkFqcGdeQXVyNzkwMjQ5NzM@._V1_UY98_CR1,0,67,98_AL_.jpg",
         " THE GODFATHER ",
         "1972.0",
         "A",
         " 175 min ",
         "9.2",
         "An organized crime dynasty's aging patriarch transfers control of his clandestine empire to his reluctant son.",
         "100.0",
         "Marlon @ Brando",
         null,
         " James Caan ",
         " Diane Keaton ",
         "1620367.0",
         null,
         "Francis Ford Coppola",
         "Crime, Drama"
        ],
        [
         "2",
         "3",
         "https://m.media-amazon.com/images/M/MV5BMTMxNTMwODM0NF5BMl5BanBnXkFtZTcwODAyMTk2Mw@@._V1_UX67_CR0,0,67,98_AL_.jpg",
         "The Dark Knight",
         "2008.0",
         " UA ",
         "152 min",
         "9.0",
         " When the menace known as the Joker wreaks havoc and chaos on the people of Gotham, Batman must accept one of the greatest psychological and physical tests of his ability to fight injustice. ",
         "84.0",
         " @ Christian @ Bale @ ",
         "Heath Ledger",
         "Aaron Eckhart",
         "Michael Caine",
         "2303232.0",
         "534,858,444",
         " Christopher Nolan ",
         " Action, Crime, Drama "
        ],
        [
         "3",
         "4",
         "https://m.media-amazon.com/images/M/MV5BMWMwMGQzZTItY2JlNC00OWZiLWIyMDctNDk2ZDQ2YjRjMWQ0XkEyXkFqcGdeQXVyNzkwMjQ5NzM@._V1_UY98_CR1,0,67,98_AL_.jpg",
         "THE GODFATHER: PART II",
         "1974.0",
         " A ",
         "202 min",
         null,
         null,
         "90.0",
         " @ Al @ Pacino @ ",
         null,
         "Robert Duvall",
         " Diane Keaton ",
         null,
         null,
         " Francis Ford Coppola ",
         " Crime, Drama "
        ],
        [
         "4",
         "5",
         "https://m.media-amazon.com/images/M/MV5BMWU4N2FjNzYtNTVkNC00NzQ0LTg0MjAtYTJlMjFhNGUxZDFmXkEyXkFqcGdeQXVyNjc1NTYyMjg@._V1_UX67_CR0,0,67,98_AL_.jpg",
         " 12 angry men ",
         "1957.0",
         " U ",
         "96 min",
         "9.0",
         "A jury holdout attempts to prevent a miscarriage of justice by forcing his colleagues to reconsider the evidence.",
         "96.0",
         " @ Henry @ Fonda @ ",
         " Lee J. Cobb ",
         "Martin Balsam",
         null,
         "689845.0",
         "4,360,000",
         "Sidney Lumet",
         "Crime, Drama"
        ]
       ],
       "shape": {
        "columns": 17,
        "rows": 5
       }
      },
      "text/html": [
       "<div>\n",
       "<style scoped>\n",
       "    .dataframe tbody tr th:only-of-type {\n",
       "        vertical-align: middle;\n",
       "    }\n",
       "\n",
       "    .dataframe tbody tr th {\n",
       "        vertical-align: top;\n",
       "    }\n",
       "\n",
       "    .dataframe thead th {\n",
       "        text-align: right;\n",
       "    }\n",
       "</style>\n",
       "<table border=\"1\" class=\"dataframe\">\n",
       "  <thead>\n",
       "    <tr style=\"text-align: right;\">\n",
       "      <th></th>\n",
       "      <th>ID</th>\n",
       "      <th>Poster_Link</th>\n",
       "      <th>Series_Title</th>\n",
       "      <th>Released_Year</th>\n",
       "      <th>Certificate</th>\n",
       "      <th>Runtime</th>\n",
       "      <th>IMDB_Rating</th>\n",
       "      <th>Overview</th>\n",
       "      <th>Meta_score</th>\n",
       "      <th>Star1</th>\n",
       "      <th>Star2</th>\n",
       "      <th>Star3</th>\n",
       "      <th>Star4</th>\n",
       "      <th>No_of_Votes</th>\n",
       "      <th>Gross</th>\n",
       "      <th>Director_Name</th>\n",
       "      <th>Genre</th>\n",
       "    </tr>\n",
       "  </thead>\n",
       "  <tbody>\n",
       "    <tr>\n",
       "      <th>0</th>\n",
       "      <td>1</td>\n",
       "      <td>https://m.media-amazon.com/images/M/MV5BMDFkY...</td>\n",
       "      <td>the shawshank redemption</td>\n",
       "      <td>1994.0</td>\n",
       "      <td>NaN</td>\n",
       "      <td>142 min</td>\n",
       "      <td>9.3</td>\n",
       "      <td>Two imprisoned men bond over a number of years...</td>\n",
       "      <td>80.0</td>\n",
       "      <td>Tim @ Robbins</td>\n",
       "      <td>NaN</td>\n",
       "      <td>Bob Gunton</td>\n",
       "      <td>William Sadler</td>\n",
       "      <td>2343110.0</td>\n",
       "      <td>28,341,469</td>\n",
       "      <td>Frank Darabont</td>\n",
       "      <td>Drama</td>\n",
       "    </tr>\n",
       "    <tr>\n",
       "      <th>1</th>\n",
       "      <td>2</td>\n",
       "      <td>https://m.media-amazon.com/images/M/MV5BM2MyNj...</td>\n",
       "      <td>THE GODFATHER</td>\n",
       "      <td>1972.0</td>\n",
       "      <td>A</td>\n",
       "      <td>175 min</td>\n",
       "      <td>9.2</td>\n",
       "      <td>An organized crime dynasty's aging patriarch t...</td>\n",
       "      <td>100.0</td>\n",
       "      <td>Marlon @ Brando</td>\n",
       "      <td>NaN</td>\n",
       "      <td>James Caan</td>\n",
       "      <td>Diane Keaton</td>\n",
       "      <td>1620367.0</td>\n",
       "      <td>NaN</td>\n",
       "      <td>Francis Ford Coppola</td>\n",
       "      <td>Crime, Drama</td>\n",
       "    </tr>\n",
       "    <tr>\n",
       "      <th>2</th>\n",
       "      <td>3</td>\n",
       "      <td>https://m.media-amazon.com/images/M/MV5BMTMxNT...</td>\n",
       "      <td>The Dark Knight</td>\n",
       "      <td>2008.0</td>\n",
       "      <td>UA</td>\n",
       "      <td>152 min</td>\n",
       "      <td>9.0</td>\n",
       "      <td>When the menace known as the Joker wreaks hav...</td>\n",
       "      <td>84.0</td>\n",
       "      <td>@ Christian @ Bale @</td>\n",
       "      <td>Heath Ledger</td>\n",
       "      <td>Aaron Eckhart</td>\n",
       "      <td>Michael Caine</td>\n",
       "      <td>2303232.0</td>\n",
       "      <td>534,858,444</td>\n",
       "      <td>Christopher Nolan</td>\n",
       "      <td>Action, Crime, Drama</td>\n",
       "    </tr>\n",
       "    <tr>\n",
       "      <th>3</th>\n",
       "      <td>4</td>\n",
       "      <td>https://m.media-amazon.com/images/M/MV5BMWMwMG...</td>\n",
       "      <td>THE GODFATHER: PART II</td>\n",
       "      <td>1974.0</td>\n",
       "      <td>A</td>\n",
       "      <td>202 min</td>\n",
       "      <td>NaN</td>\n",
       "      <td>NaN</td>\n",
       "      <td>90.0</td>\n",
       "      <td>@ Al @ Pacino @</td>\n",
       "      <td>NaN</td>\n",
       "      <td>Robert Duvall</td>\n",
       "      <td>Diane Keaton</td>\n",
       "      <td>NaN</td>\n",
       "      <td>NaN</td>\n",
       "      <td>Francis Ford Coppola</td>\n",
       "      <td>Crime, Drama</td>\n",
       "    </tr>\n",
       "    <tr>\n",
       "      <th>4</th>\n",
       "      <td>5</td>\n",
       "      <td>https://m.media-amazon.com/images/M/MV5BMWU4N2...</td>\n",
       "      <td>12 angry men</td>\n",
       "      <td>1957.0</td>\n",
       "      <td>U</td>\n",
       "      <td>96 min</td>\n",
       "      <td>9.0</td>\n",
       "      <td>A jury holdout attempts to prevent a miscarria...</td>\n",
       "      <td>96.0</td>\n",
       "      <td>@ Henry @ Fonda @</td>\n",
       "      <td>Lee J. Cobb</td>\n",
       "      <td>Martin Balsam</td>\n",
       "      <td>NaN</td>\n",
       "      <td>689845.0</td>\n",
       "      <td>4,360,000</td>\n",
       "      <td>Sidney Lumet</td>\n",
       "      <td>Crime, Drama</td>\n",
       "    </tr>\n",
       "  </tbody>\n",
       "</table>\n",
       "</div>"
      ],
      "text/plain": [
       "   ID                                        Poster_Link  \\\n",
       "0   1   https://m.media-amazon.com/images/M/MV5BMDFkY...   \n",
       "1   2  https://m.media-amazon.com/images/M/MV5BM2MyNj...   \n",
       "2   3  https://m.media-amazon.com/images/M/MV5BMTMxNT...   \n",
       "3   4  https://m.media-amazon.com/images/M/MV5BMWMwMG...   \n",
       "4   5  https://m.media-amazon.com/images/M/MV5BMWU4N2...   \n",
       "\n",
       "               Series_Title  Released_Year Certificate    Runtime  \\\n",
       "0  the shawshank redemption         1994.0         NaN   142 min    \n",
       "1            THE GODFATHER          1972.0           A   175 min    \n",
       "2           The Dark Knight         2008.0         UA     152 min   \n",
       "3    THE GODFATHER: PART II         1974.0          A     202 min   \n",
       "4             12 angry men          1957.0          U      96 min   \n",
       "\n",
       "   IMDB_Rating                                           Overview  Meta_score  \\\n",
       "0          9.3  Two imprisoned men bond over a number of years...        80.0   \n",
       "1          9.2  An organized crime dynasty's aging patriarch t...       100.0   \n",
       "2          9.0   When the menace known as the Joker wreaks hav...        84.0   \n",
       "3          NaN                                                NaN        90.0   \n",
       "4          9.0  A jury holdout attempts to prevent a miscarria...        96.0   \n",
       "\n",
       "                    Star1          Star2          Star3           Star4  \\\n",
       "0           Tim @ Robbins            NaN     Bob Gunton  William Sadler   \n",
       "1         Marlon @ Brando            NaN    James Caan    Diane Keaton    \n",
       "2   @ Christian @ Bale @    Heath Ledger  Aaron Eckhart   Michael Caine   \n",
       "3        @ Al @ Pacino @             NaN  Robert Duvall   Diane Keaton    \n",
       "4      @ Henry @ Fonda @    Lee J. Cobb   Martin Balsam             NaN   \n",
       "\n",
       "   No_of_Votes        Gross           Director_Name                   Genre  \n",
       "0    2343110.0   28,341,469         Frank Darabont                    Drama  \n",
       "1    1620367.0          NaN    Francis Ford Coppola            Crime, Drama  \n",
       "2    2303232.0  534,858,444      Christopher Nolan    Action, Crime, Drama   \n",
       "3          NaN          NaN   Francis Ford Coppola            Crime, Drama   \n",
       "4     689845.0    4,360,000            Sidney Lumet            Crime, Drama  "
      ]
     },
     "execution_count": 119,
     "metadata": {},
     "output_type": "execute_result"
    }
   ],
   "source": [
    "# ======= Split \"Director_Genre\" Column ======= \n",
    "df[['Director_Name', 'Genre']] = df[\"Director_Genre\"].str.split('*', expand=True)\n",
    "df.drop(columns=[\"Director_Genre\"], inplace=True)\n",
    "df.head()"
   ]
  },
  {
   "cell_type": "markdown",
   "id": "7ee8dcf5",
   "metadata": {},
   "source": [
    "### 5.3. Handle the Inconsistency of Formating"
   ]
  },
  {
   "cell_type": "code",
   "execution_count": 120,
   "id": "1df00fef",
   "metadata": {},
   "outputs": [
    {
     "data": {
      "application/vnd.microsoft.datawrangler.viewer.v0+json": {
       "columns": [
        {
         "name": "index",
         "rawType": "int64",
         "type": "integer"
        },
        {
         "name": "ID",
         "rawType": "int64",
         "type": "integer"
        },
        {
         "name": "Poster_Link",
         "rawType": "string",
         "type": "string"
        },
        {
         "name": "Series_Title",
         "rawType": "object",
         "type": "string"
        },
        {
         "name": "Released_Year",
         "rawType": "float64",
         "type": "float"
        },
        {
         "name": "Certificate",
         "rawType": "string",
         "type": "string"
        },
        {
         "name": "Runtime_Minutes",
         "rawType": "Int64",
         "type": "integer"
        },
        {
         "name": "IMDB_Rating",
         "rawType": "float64",
         "type": "float"
        },
        {
         "name": "Overview",
         "rawType": "string",
         "type": "string"
        },
        {
         "name": "Meta_score",
         "rawType": "float64",
         "type": "float"
        },
        {
         "name": "Star1",
         "rawType": "object",
         "type": "string"
        },
        {
         "name": "Star2",
         "rawType": "object",
         "type": "unknown"
        },
        {
         "name": "Star3",
         "rawType": "object",
         "type": "string"
        },
        {
         "name": "Star4",
         "rawType": "object",
         "type": "unknown"
        },
        {
         "name": "No_of_Votes",
         "rawType": "Float64",
         "type": "float"
        },
        {
         "name": "Gross",
         "rawType": "Float64",
         "type": "float"
        },
        {
         "name": "Director_Name",
         "rawType": "object",
         "type": "string"
        },
        {
         "name": "Genre",
         "rawType": "object",
         "type": "string"
        }
       ],
       "ref": "14fd613b-be6c-4060-941e-efed0c0a4afe",
       "rows": [
        [
         "0",
         "1",
         "https://m.media-amazon.com/images/M/MV5BMDFkYTc0MGEtZmNhMC00ZDIzLWFmNTEtODM1ZmRlYWMwMWFmXkEyXkFqcGdeQXVyMTMxODk2OTU@._V1_UX67_CR0,0,67,98_AL_.jpg",
         "The Shawshank Redemption",
         "1994.0",
         null,
         "142",
         "9.3",
         "Two imprisoned men bond over a number of years, finding solace and eventual redemption through acts of common decency.",
         "80.0",
         "Tim Robbins",
         null,
         "Bob Gunton",
         "William Sadler",
         "2343110.0",
         "28341469.0",
         "Frank Darabont",
         "Drama"
        ],
        [
         "1",
         "2",
         "https://m.media-amazon.com/images/M/MV5BM2MyNjYxNmUtYTAwNi00MTYxLWJmNWYtYzZlODY3ZTk3OTFlXkEyXkFqcGdeQXVyNzkwMjQ5NzM@._V1_UY98_CR1,0,67,98_AL_.jpg",
         "The Godfather",
         "1972.0",
         "A",
         "175",
         "9.2",
         "An organized crime dynasty's aging patriarch transfers control of his clandestine empire to his reluctant son.",
         "100.0",
         "Marlon Brando",
         null,
         "James Caan",
         "Diane Keaton",
         "1620367.0",
         null,
         "Francis Ford Coppola",
         "Crime, Drama"
        ],
        [
         "2",
         "3",
         "https://m.media-amazon.com/images/M/MV5BMTMxNTMwODM0NF5BMl5BanBnXkFtZTcwODAyMTk2Mw@@._V1_UX67_CR0,0,67,98_AL_.jpg",
         "The Dark Knight",
         "2008.0",
         "UA",
         "152",
         "9.0",
         "When the menace known as the Joker wreaks havoc and chaos on the people of Gotham, Batman must accept one of the greatest psychological and physical tests of his ability to fight injustice.",
         "84.0",
         "Christian Bale",
         "Heath Ledger",
         "Aaron Eckhart",
         "Michael Caine",
         "2303232.0",
         "534858444.0",
         "Christopher Nolan",
         " Action, Crime, Drama "
        ],
        [
         "3",
         "4",
         "https://m.media-amazon.com/images/M/MV5BMWMwMGQzZTItY2JlNC00OWZiLWIyMDctNDk2ZDQ2YjRjMWQ0XkEyXkFqcGdeQXVyNzkwMjQ5NzM@._V1_UY98_CR1,0,67,98_AL_.jpg",
         "The Godfather: Part II",
         "1974.0",
         "A",
         "202",
         null,
         null,
         "90.0",
         "Al Pacino",
         null,
         "Robert Duvall",
         "Diane Keaton",
         null,
         null,
         "Francis Ford Coppola",
         " Crime, Drama "
        ],
        [
         "4",
         "5",
         "https://m.media-amazon.com/images/M/MV5BMWU4N2FjNzYtNTVkNC00NzQ0LTg0MjAtYTJlMjFhNGUxZDFmXkEyXkFqcGdeQXVyNjc1NTYyMjg@._V1_UX67_CR0,0,67,98_AL_.jpg",
         "12 Angry Men",
         "1957.0",
         "U",
         "96",
         "9.0",
         "A jury holdout attempts to prevent a miscarriage of justice by forcing his colleagues to reconsider the evidence.",
         "96.0",
         "Henry Fonda",
         "Lee J. Cobb",
         "Martin Balsam",
         null,
         "689845.0",
         "4360000.0",
         "Sidney Lumet",
         "Crime, Drama"
        ]
       ],
       "shape": {
        "columns": 17,
        "rows": 5
       }
      },
      "text/html": [
       "<div>\n",
       "<style scoped>\n",
       "    .dataframe tbody tr th:only-of-type {\n",
       "        vertical-align: middle;\n",
       "    }\n",
       "\n",
       "    .dataframe tbody tr th {\n",
       "        vertical-align: top;\n",
       "    }\n",
       "\n",
       "    .dataframe thead th {\n",
       "        text-align: right;\n",
       "    }\n",
       "</style>\n",
       "<table border=\"1\" class=\"dataframe\">\n",
       "  <thead>\n",
       "    <tr style=\"text-align: right;\">\n",
       "      <th></th>\n",
       "      <th>ID</th>\n",
       "      <th>Poster_Link</th>\n",
       "      <th>Series_Title</th>\n",
       "      <th>Released_Year</th>\n",
       "      <th>Certificate</th>\n",
       "      <th>Runtime_Minutes</th>\n",
       "      <th>IMDB_Rating</th>\n",
       "      <th>Overview</th>\n",
       "      <th>Meta_score</th>\n",
       "      <th>Star1</th>\n",
       "      <th>Star2</th>\n",
       "      <th>Star3</th>\n",
       "      <th>Star4</th>\n",
       "      <th>No_of_Votes</th>\n",
       "      <th>Gross</th>\n",
       "      <th>Director_Name</th>\n",
       "      <th>Genre</th>\n",
       "    </tr>\n",
       "  </thead>\n",
       "  <tbody>\n",
       "    <tr>\n",
       "      <th>0</th>\n",
       "      <td>1</td>\n",
       "      <td>https://m.media-amazon.com/images/M/MV5BMDFkYT...</td>\n",
       "      <td>The Shawshank Redemption</td>\n",
       "      <td>1994.0</td>\n",
       "      <td>&lt;NA&gt;</td>\n",
       "      <td>142</td>\n",
       "      <td>9.3</td>\n",
       "      <td>Two imprisoned men bond over a number of years...</td>\n",
       "      <td>80.0</td>\n",
       "      <td>Tim Robbins</td>\n",
       "      <td>&lt;NA&gt;</td>\n",
       "      <td>Bob Gunton</td>\n",
       "      <td>William Sadler</td>\n",
       "      <td>2343110.0</td>\n",
       "      <td>28341469.0</td>\n",
       "      <td>Frank Darabont</td>\n",
       "      <td>Drama</td>\n",
       "    </tr>\n",
       "    <tr>\n",
       "      <th>1</th>\n",
       "      <td>2</td>\n",
       "      <td>https://m.media-amazon.com/images/M/MV5BM2MyNj...</td>\n",
       "      <td>The Godfather</td>\n",
       "      <td>1972.0</td>\n",
       "      <td>A</td>\n",
       "      <td>175</td>\n",
       "      <td>9.2</td>\n",
       "      <td>An organized crime dynasty's aging patriarch t...</td>\n",
       "      <td>100.0</td>\n",
       "      <td>Marlon Brando</td>\n",
       "      <td>&lt;NA&gt;</td>\n",
       "      <td>James Caan</td>\n",
       "      <td>Diane Keaton</td>\n",
       "      <td>1620367.0</td>\n",
       "      <td>&lt;NA&gt;</td>\n",
       "      <td>Francis Ford Coppola</td>\n",
       "      <td>Crime, Drama</td>\n",
       "    </tr>\n",
       "    <tr>\n",
       "      <th>2</th>\n",
       "      <td>3</td>\n",
       "      <td>https://m.media-amazon.com/images/M/MV5BMTMxNT...</td>\n",
       "      <td>The Dark Knight</td>\n",
       "      <td>2008.0</td>\n",
       "      <td>UA</td>\n",
       "      <td>152</td>\n",
       "      <td>9.0</td>\n",
       "      <td>When the menace known as the Joker wreaks havo...</td>\n",
       "      <td>84.0</td>\n",
       "      <td>Christian Bale</td>\n",
       "      <td>Heath Ledger</td>\n",
       "      <td>Aaron Eckhart</td>\n",
       "      <td>Michael Caine</td>\n",
       "      <td>2303232.0</td>\n",
       "      <td>534858444.0</td>\n",
       "      <td>Christopher Nolan</td>\n",
       "      <td>Action, Crime, Drama</td>\n",
       "    </tr>\n",
       "    <tr>\n",
       "      <th>3</th>\n",
       "      <td>4</td>\n",
       "      <td>https://m.media-amazon.com/images/M/MV5BMWMwMG...</td>\n",
       "      <td>The Godfather: Part II</td>\n",
       "      <td>1974.0</td>\n",
       "      <td>A</td>\n",
       "      <td>202</td>\n",
       "      <td>NaN</td>\n",
       "      <td>&lt;NA&gt;</td>\n",
       "      <td>90.0</td>\n",
       "      <td>Al Pacino</td>\n",
       "      <td>&lt;NA&gt;</td>\n",
       "      <td>Robert Duvall</td>\n",
       "      <td>Diane Keaton</td>\n",
       "      <td>&lt;NA&gt;</td>\n",
       "      <td>&lt;NA&gt;</td>\n",
       "      <td>Francis Ford Coppola</td>\n",
       "      <td>Crime, Drama</td>\n",
       "    </tr>\n",
       "    <tr>\n",
       "      <th>4</th>\n",
       "      <td>5</td>\n",
       "      <td>https://m.media-amazon.com/images/M/MV5BMWU4N2...</td>\n",
       "      <td>12 Angry Men</td>\n",
       "      <td>1957.0</td>\n",
       "      <td>U</td>\n",
       "      <td>96</td>\n",
       "      <td>9.0</td>\n",
       "      <td>A jury holdout attempts to prevent a miscarria...</td>\n",
       "      <td>96.0</td>\n",
       "      <td>Henry Fonda</td>\n",
       "      <td>Lee J. Cobb</td>\n",
       "      <td>Martin Balsam</td>\n",
       "      <td>&lt;NA&gt;</td>\n",
       "      <td>689845.0</td>\n",
       "      <td>4360000.0</td>\n",
       "      <td>Sidney Lumet</td>\n",
       "      <td>Crime, Drama</td>\n",
       "    </tr>\n",
       "  </tbody>\n",
       "</table>\n",
       "</div>"
      ],
      "text/plain": [
       "   ID                                        Poster_Link  \\\n",
       "0   1  https://m.media-amazon.com/images/M/MV5BMDFkYT...   \n",
       "1   2  https://m.media-amazon.com/images/M/MV5BM2MyNj...   \n",
       "2   3  https://m.media-amazon.com/images/M/MV5BMTMxNT...   \n",
       "3   4  https://m.media-amazon.com/images/M/MV5BMWMwMG...   \n",
       "4   5  https://m.media-amazon.com/images/M/MV5BMWU4N2...   \n",
       "\n",
       "               Series_Title  Released_Year Certificate  Runtime_Minutes  \\\n",
       "0  The Shawshank Redemption         1994.0        <NA>              142   \n",
       "1             The Godfather         1972.0           A              175   \n",
       "2           The Dark Knight         2008.0          UA              152   \n",
       "3    The Godfather: Part II         1974.0           A              202   \n",
       "4              12 Angry Men         1957.0           U               96   \n",
       "\n",
       "   IMDB_Rating                                           Overview  Meta_score  \\\n",
       "0          9.3  Two imprisoned men bond over a number of years...        80.0   \n",
       "1          9.2  An organized crime dynasty's aging patriarch t...       100.0   \n",
       "2          9.0  When the menace known as the Joker wreaks havo...        84.0   \n",
       "3          NaN                                               <NA>        90.0   \n",
       "4          9.0  A jury holdout attempts to prevent a miscarria...        96.0   \n",
       "\n",
       "            Star1         Star2          Star3           Star4  No_of_Votes  \\\n",
       "0     Tim Robbins          <NA>     Bob Gunton  William Sadler    2343110.0   \n",
       "1   Marlon Brando          <NA>     James Caan    Diane Keaton    1620367.0   \n",
       "2  Christian Bale  Heath Ledger  Aaron Eckhart   Michael Caine    2303232.0   \n",
       "3       Al Pacino          <NA>  Robert Duvall    Diane Keaton         <NA>   \n",
       "4     Henry Fonda   Lee J. Cobb  Martin Balsam            <NA>     689845.0   \n",
       "\n",
       "         Gross         Director_Name                   Genre  \n",
       "0   28341469.0        Frank Darabont                   Drama  \n",
       "1         <NA>  Francis Ford Coppola            Crime, Drama  \n",
       "2  534858444.0     Christopher Nolan   Action, Crime, Drama   \n",
       "3         <NA>  Francis Ford Coppola           Crime, Drama   \n",
       "4    4360000.0          Sidney Lumet            Crime, Drama  "
      ]
     },
     "execution_count": 120,
     "metadata": {},
     "output_type": "execute_result"
    }
   ],
   "source": [
    "import re\n",
    "\n",
    "# ===== Standardize \"Poster_Link\" =====\n",
    "df['Poster_Link'] = df['Poster_Link'].astype('string').str.strip()\n",
    "\n",
    "# ===== Standardize \"Series_Title\" ===== \n",
    "def normalize_name(name):    \n",
    "    if pd.isna(name):\n",
    "        return pd.NA\n",
    "\n",
    "    name = name.strip().lower()\n",
    "    name = re.sub(r'\\s+', ' ', name) \n",
    "    \n",
    "    roman_pattern = r'^(?=[MDCLXVI])M{0,4}(CM|CD|D?C{0,3})?' \\\n",
    "                r'(XC|XL|L?X{0,3})?(IX|IV|V?I{0,3})$'\n",
    "\n",
    "    words = name.split(' ')\n",
    "\n",
    "    normalized = []\n",
    "    for word in words: \n",
    "        if re.match(roman_pattern, word.upper()):\n",
    "            normalized.append(word.upper())\n",
    "        else:\n",
    "            normalized.append(word.capitalize())\n",
    "\n",
    "    return ' '.join(normalized)\n",
    "\n",
    "df['Series_Title'] = df['Series_Title'].astype('string').apply(normalize_name)\n",
    "\n",
    "# ===== Standardize \"Released_Year\" ===== \n",
    "# no action needed\n",
    "\n",
    "# ===== Standardize \"Certificaate\" ===== \n",
    "df['Certificate'] = df['Certificate'].astype('string').str.strip().str.upper()\n",
    "\n",
    "# ===== Standardize \"Runtime\" =====\n",
    "df['Runtime'] = df['Runtime'].astype('string').str.strip().str.replace(' min', '', regex=False).apply(pd.to_numeric, errors='coerce').astype('Int64')\n",
    "df.rename(columns={'Runtime': 'Runtime_Minutes'}, inplace=True)\n",
    "\n",
    "# ===== Standardize \"IMDB_Rating\" =====\n",
    "# no action needed\n",
    "\n",
    "# ===== Standardize \"Overview\" =====\n",
    "df['Overview'] = df['Overview'].astype('string').str.strip().replace(', ...', '.').str.replace('See full summary »', '')\n",
    "\n",
    "# ===== Standardize \"Meta_score\" =====\n",
    "# no action needed\n",
    "\n",
    "# # ===== Standardize \"Star1\" =====\n",
    "df['Star1'] = df['Star1'].astype('string').str.replace('@', '').apply(normalize_name)\n",
    "\n",
    "# # ===== Standardize \"Star2\" =====\n",
    "df['Star2'] = df['Star2'].astype('string').apply(normalize_name)\n",
    "\n",
    "# ===== Standardize \"Star3\" =====\n",
    "df['Star3'] = df['Star3'].astype('string').apply(normalize_name)\n",
    "\n",
    "# ===== Standardize \"Star4\" =====\n",
    "df['Star4'] = df['Star4'].astype('string').apply(normalize_name)\n",
    "\n",
    "# ===== Standardize \"No_of_Votes\" =====\n",
    "df['No_of_Votes'] = df['No_of_Votes'].astype('string').str.strip().astype('Float64')\n",
    "\n",
    "# ===== Standardize \"Gross\" =====\n",
    "df['Gross'] = df['Gross'].str.replace(',', '', regex=False).astype('Float64')\n",
    "\n",
    "# # ===== Standardize \"Director_Name\" =====\n",
    "df['Director_Name'] = df['Director_Name'].astype('string').apply(normalize_name)\n",
    "\n",
    "# # ===== Standardize \"Genre\" =====\n",
    "# # no action needed\n",
    "\n",
    "df.head()\n"
   ]
  },
  {
   "cell_type": "code",
   "execution_count": 122,
   "id": "f5f20091",
   "metadata": {},
   "outputs": [
    {
     "data": {
      "application/vnd.microsoft.datawrangler.viewer.v0+json": {
       "columns": [
        {
         "name": "index",
         "rawType": "object",
         "type": "string"
        },
        {
         "name": "0",
         "rawType": "int64",
         "type": "integer"
        }
       ],
       "ref": "6b8bfb50-c19f-4cf8-9a73-796d18bd84d8",
       "rows": [
        [
         "ID",
         "0"
        ],
        [
         "Poster_Link",
         "98"
        ],
        [
         "Series_Title",
         "99"
        ],
        [
         "Released_Year",
         "100"
        ],
        [
         "Certificate",
         "187"
        ],
        [
         "Runtime_Minutes",
         "100"
        ],
        [
         "IMDB_Rating",
         "100"
        ],
        [
         "Overview",
         "100"
        ],
        [
         "Meta_score",
         "240"
        ],
        [
         "Star1",
         "100"
        ],
        [
         "Star2",
         "100"
        ],
        [
         "Star3",
         "100"
        ],
        [
         "Star4",
         "100"
        ],
        [
         "No_of_Votes",
         "100"
        ],
        [
         "Gross",
         "256"
        ],
        [
         "Director_Name",
         "100"
        ],
        [
         "Genre",
         "100"
        ]
       ],
       "shape": {
        "columns": 1,
        "rows": 17
       }
      },
      "text/plain": [
       "ID                   0\n",
       "Poster_Link         98\n",
       "Series_Title        99\n",
       "Released_Year      100\n",
       "Certificate        187\n",
       "Runtime_Minutes    100\n",
       "IMDB_Rating        100\n",
       "Overview           100\n",
       "Meta_score         240\n",
       "Star1              100\n",
       "Star2              100\n",
       "Star3              100\n",
       "Star4              100\n",
       "No_of_Votes        100\n",
       "Gross              256\n",
       "Director_Name      100\n",
       "Genre              100\n",
       "dtype: int64"
      ]
     },
     "execution_count": 122,
     "metadata": {},
     "output_type": "execute_result"
    }
   ],
   "source": [
    "df.isnull().sum()"
   ]
  },
  {
   "cell_type": "markdown",
   "id": "8e46e640",
   "metadata": {},
   "source": [
    "### Recover \"Country\" Column With AI"
   ]
  },
  {
   "cell_type": "markdown",
   "id": "7d686d36",
   "metadata": {},
   "source": [
    "Check Important Values for GenAI"
   ]
  },
  {
   "cell_type": "code",
   "execution_count": 123,
   "id": "a72bcc03",
   "metadata": {},
   "outputs": [
    {
     "data": {
      "application/vnd.microsoft.datawrangler.viewer.v0+json": {
       "columns": [
        {
         "name": "index",
         "rawType": "int64",
         "type": "integer"
        },
        {
         "name": "ID",
         "rawType": "int64",
         "type": "integer"
        },
        {
         "name": "Poster_Link",
         "rawType": "string",
         "type": "string"
        },
        {
         "name": "Series_Title",
         "rawType": "object",
         "type": "unknown"
        },
        {
         "name": "Released_Year",
         "rawType": "float64",
         "type": "float"
        },
        {
         "name": "Certificate",
         "rawType": "string",
         "type": "string"
        },
        {
         "name": "Runtime_Minutes",
         "rawType": "Int64",
         "type": "integer"
        },
        {
         "name": "IMDB_Rating",
         "rawType": "float64",
         "type": "float"
        },
        {
         "name": "Overview",
         "rawType": "string",
         "type": "string"
        },
        {
         "name": "Meta_score",
         "rawType": "float64",
         "type": "float"
        },
        {
         "name": "Star1",
         "rawType": "object",
         "type": "string"
        },
        {
         "name": "Star2",
         "rawType": "object",
         "type": "string"
        },
        {
         "name": "Star3",
         "rawType": "object",
         "type": "string"
        },
        {
         "name": "Star4",
         "rawType": "object",
         "type": "string"
        },
        {
         "name": "No_of_Votes",
         "rawType": "Float64",
         "type": "float"
        },
        {
         "name": "Gross",
         "rawType": "Float64",
         "type": "float"
        },
        {
         "name": "Director_Name",
         "rawType": "object",
         "type": "unknown"
        },
        {
         "name": "Genre",
         "rawType": "object",
         "type": "unknown"
        }
       ],
       "ref": "7372624f-661e-44f9-a9c1-e0ab706cc901",
       "rows": [
        [
         "552",
         "553",
         "https://m.media-amazon.com/images/M/MV5BODcxYjUxZDgtYTQ5Zi00YmQ1LWJmZmItODZkOTYyNDhiNWM3XkEyXkFqcGdeQXVyNjc1NTYyMjg@._V1_UX67_CR0,0,67,98_AL_.jpg",
         null,
         "1956.0",
         "U",
         null,
         "7.9",
         null,
         null,
         "Charlton Heston",
         "Yul Brynner",
         "Anne Baxter",
         "Edward G. Robinson",
         "63560.0",
         "93740000.0",
         null,
         null
        ]
       ],
       "shape": {
        "columns": 17,
        "rows": 1
       }
      },
      "text/html": [
       "<div>\n",
       "<style scoped>\n",
       "    .dataframe tbody tr th:only-of-type {\n",
       "        vertical-align: middle;\n",
       "    }\n",
       "\n",
       "    .dataframe tbody tr th {\n",
       "        vertical-align: top;\n",
       "    }\n",
       "\n",
       "    .dataframe thead th {\n",
       "        text-align: right;\n",
       "    }\n",
       "</style>\n",
       "<table border=\"1\" class=\"dataframe\">\n",
       "  <thead>\n",
       "    <tr style=\"text-align: right;\">\n",
       "      <th></th>\n",
       "      <th>ID</th>\n",
       "      <th>Poster_Link</th>\n",
       "      <th>Series_Title</th>\n",
       "      <th>Released_Year</th>\n",
       "      <th>Certificate</th>\n",
       "      <th>Runtime_Minutes</th>\n",
       "      <th>IMDB_Rating</th>\n",
       "      <th>Overview</th>\n",
       "      <th>Meta_score</th>\n",
       "      <th>Star1</th>\n",
       "      <th>Star2</th>\n",
       "      <th>Star3</th>\n",
       "      <th>Star4</th>\n",
       "      <th>No_of_Votes</th>\n",
       "      <th>Gross</th>\n",
       "      <th>Director_Name</th>\n",
       "      <th>Genre</th>\n",
       "    </tr>\n",
       "  </thead>\n",
       "  <tbody>\n",
       "    <tr>\n",
       "      <th>552</th>\n",
       "      <td>553</td>\n",
       "      <td>https://m.media-amazon.com/images/M/MV5BODcxYj...</td>\n",
       "      <td>&lt;NA&gt;</td>\n",
       "      <td>1956.0</td>\n",
       "      <td>U</td>\n",
       "      <td>&lt;NA&gt;</td>\n",
       "      <td>7.9</td>\n",
       "      <td>&lt;NA&gt;</td>\n",
       "      <td>NaN</td>\n",
       "      <td>Charlton Heston</td>\n",
       "      <td>Yul Brynner</td>\n",
       "      <td>Anne Baxter</td>\n",
       "      <td>Edward G. Robinson</td>\n",
       "      <td>63560.0</td>\n",
       "      <td>93740000.0</td>\n",
       "      <td>&lt;NA&gt;</td>\n",
       "      <td>NaN</td>\n",
       "    </tr>\n",
       "  </tbody>\n",
       "</table>\n",
       "</div>"
      ],
      "text/plain": [
       "      ID                                        Poster_Link Series_Title  \\\n",
       "552  553  https://m.media-amazon.com/images/M/MV5BODcxYj...         <NA>   \n",
       "\n",
       "     Released_Year Certificate  Runtime_Minutes  IMDB_Rating Overview  \\\n",
       "552         1956.0           U             <NA>          7.9     <NA>   \n",
       "\n",
       "     Meta_score            Star1        Star2        Star3  \\\n",
       "552         NaN  Charlton Heston  Yul Brynner  Anne Baxter   \n",
       "\n",
       "                  Star4  No_of_Votes       Gross Director_Name Genre  \n",
       "552  Edward G. Robinson      63560.0  93740000.0          <NA>   NaN  "
      ]
     },
     "execution_count": 123,
     "metadata": {},
     "output_type": "execute_result"
    }
   ],
   "source": [
    "df[\n",
    "    (df['Series_Title'].isnull() | df['Series_Title'].str.strip().eq('')) \n",
    "    & (df['Director_Name'].isnull() | df['Director_Name'].str.strip().eq('')) \n",
    "    & (df['Overview'].isnull() | df['Overview'].str.strip().eq('')) \n",
    "]"
   ]
  },
  {
   "cell_type": "markdown",
   "id": "d5792435",
   "metadata": {},
   "source": [
    "To retieve the Country values we can rely on existing values like Series_Title, Overview, or Director_Name.\n",
    "For the another 1 row, we can rely on the Star names and Year."
   ]
  },
  {
   "cell_type": "markdown",
   "id": "d7be3f12",
   "metadata": {},
   "source": [
    "We will perform Gen AI processing to generate the Country colomn."
   ]
  },
  {
   "cell_type": "code",
   "execution_count": null,
   "id": "bbe38143",
   "metadata": {},
   "outputs": [],
   "source": [
    "import os\n",
    "\n",
    "from dotenv import load_dotenv\n",
    "import google.generativeai as genai\n",
    "\n",
    "def generate_prompt(data):\n",
    "    \"\"\"\n",
    "    Generate a prompt for the Gemini model based on the provided data.\n",
    "    \"\"\"\n",
    "    prompt = (\n",
    "        \"You have 2 objective: , \"\n",
    "        \"1. Tell me the a country origin of these Series/Movies, \"\n",
    "        \"2. Fill in the missing value within the data.\"\n",
    "        \"Note: \"\n",
    "        \" - Use the existing values to fill in the missing values and guess the country origin in the new column. \"\n",
    "        \" - If you cannot find the country origin or the missing value, just put 'Unknown' in the new cell. \"\n",
    "        \"This is the data set: \"\n",
    "        \"\" \n",
    "        + str(data)\n",
    "    )\n",
    "    return prompt\n",
    "\n",
    "def extract_columns_as_clues(df, columns):\n",
    "    return df[[col for col in columns]]\n",
    "\n",
    "\n",
    "\n"
   ]
  },
  {
   "cell_type": "markdown",
   "id": "91df9154",
   "metadata": {},
   "source": [
    "========================================================================================"
   ]
  },
  {
   "cell_type": "code",
   "execution_count": 2,
   "id": "7c2b4414",
   "metadata": {},
   "outputs": [
    {
     "name": "stdout",
     "output_type": "stream",
     "text": [
      "Batch country inference function created successfully!\n"
     ]
    },
    {
     "ename": "NameError",
     "evalue": "name 'df' is not defined",
     "output_type": "error",
     "traceback": [
      "\u001b[31m---------------------------------------------------------------------------\u001b[39m",
      "\u001b[31mNameError\u001b[39m                                 Traceback (most recent call last)",
      "\u001b[36mCell\u001b[39m\u001b[36m \u001b[39m\u001b[32mIn[2]\u001b[39m\u001b[32m, line 97\u001b[39m\n\u001b[32m     94\u001b[39m     \u001b[38;5;28;01mreturn\u001b[39;00m results\n\u001b[32m     96\u001b[39m \u001b[38;5;28mprint\u001b[39m(\u001b[33m\"\u001b[39m\u001b[33mBatch country inference function created successfully!\u001b[39m\u001b[33m\"\u001b[39m)\n\u001b[32m---> \u001b[39m\u001b[32m97\u001b[39m \u001b[38;5;28mprint\u001b[39m(\u001b[33mf\u001b[39m\u001b[33m\"\u001b[39m\u001b[33mWill process \u001b[39m\u001b[38;5;132;01m{\u001b[39;00m\u001b[38;5;28mlen\u001b[39m(\u001b[43mdf\u001b[49m)\u001b[38;5;132;01m}\u001b[39;00m\u001b[33m movies in batches of 50 (approximately \u001b[39m\u001b[38;5;132;01m{\u001b[39;00m\u001b[38;5;28mlen\u001b[39m(df)//\u001b[32m50\u001b[39m\u001b[38;5;250m \u001b[39m+\u001b[38;5;250m \u001b[39m\u001b[32m1\u001b[39m\u001b[38;5;132;01m}\u001b[39;00m\u001b[33m API requests)\u001b[39m\u001b[33m\"\u001b[39m)\n",
      "\u001b[31mNameError\u001b[39m: name 'df' is not defined"
     ]
    }
   ],
   "source": [
    "from dotenv import load_dotenv\n",
    "import os\n",
    "import google.generativeai as genai\n",
    "import json\n",
    "import pandas as pd\n",
    "\n",
    "load_dotenv()\n",
    "api_key = os.getenv(\"GEMINI_API_KEY\")\n",
    "model_name = os.getenv(\"GEMINI_MODEL\", \"gemini-1.5-flash\")\n",
    "\n",
    "# Configure Gemini API\n",
    "genai.configure(api_key=api_key)\n",
    "model = genai.GenerativeModel(model_name)\n",
    "\n",
    "# Define candidate countries for validation\n",
    "candidate_countries = [\n",
    "    'United States', 'United Kingdom', 'France', 'Germany', 'Italy', 'Spain', \n",
    "    'India', 'Japan', 'China', 'South Korea', 'Canada', 'Australia', \n",
    "    'Russia', 'Brazil', 'Mexico', 'Argentina', 'Unknown'\n",
    "]\n",
    "\n",
    "def infer_countries_batch(df, batch_size=50):\n",
    "    \"\"\"\n",
    "    Infer countries for movies in batches using a single API request per batch.\n",
    "    Returns a dictionary mapping ID to country.\n",
    "    \"\"\"\n",
    "    results = {}\n",
    "    \n",
    "    # Process in batches\n",
    "    for i in range(0, len(df), batch_size):\n",
    "        batch_df = df.iloc[i:i+batch_size]\n",
    "        \n",
    "        # Create batch prompt with all movies\n",
    "        movie_data = []\n",
    "        for _, row in batch_df.iterrows():\n",
    "            movie_id = row['ID']\n",
    "            title = str(row['Series_Title']) if pd.notnull(row['Series_Title']) else 'Unknown'\n",
    "            director = str(row['Director_Name']) if pd.notnull(row['Director_Name']) else 'Unknown'\n",
    "            movie_data.append({\n",
    "                'id': movie_id,\n",
    "                'title': title,\n",
    "                'director': director\n",
    "            })\n",
    "        \n",
    "        # Create batch prompt\n",
    "        prompt = f\"\"\"Given the following list of movies, predict the country of origin for each one.\n",
    "Return your response as a JSON object where each key is the movie ID and the value is the country name.\n",
    "Only use countries from this list: {', '.join(candidate_countries[:-1])}. If uncertain, use 'Unknown'.\n",
    "\n",
    "Movies:\n",
    "\"\"\"\n",
    "        \n",
    "        for movie in movie_data:\n",
    "            prompt += f\"ID {movie['id']}: Title: '{movie['title']}', Director: '{movie['director']}'\\n\"\n",
    "        \n",
    "        prompt += f\"\\nReturn format: {json.dumps({str(movie['id']): 'Country' for movie in movie_data[:2]})}\"\n",
    "        \n",
    "        try:\n",
    "            response = model.generate_content(prompt)\n",
    "            response_text = response.text.strip()\n",
    "            \n",
    "            # Try to extract JSON from response\n",
    "            try:\n",
    "                # Sometimes the response includes markdown formatting\n",
    "                if '```json' in response_text:\n",
    "                    json_start = response_text.find('{')\n",
    "                    json_end = response_text.rfind('}') + 1\n",
    "                    response_text = response_text[json_start:json_end]\n",
    "                elif '```' in response_text:\n",
    "                    lines = response_text.split('\\n')\n",
    "                    response_text = '\\n'.join([line for line in lines if not line.strip().startswith('```')])\n",
    "                \n",
    "                batch_results = json.loads(response_text)\n",
    "                \n",
    "                # Convert string IDs back to integers and validate countries\n",
    "                for movie_id_str, country in batch_results.items():\n",
    "                    movie_id = int(movie_id_str)\n",
    "                    validated_country = country if country in candidate_countries else 'Unknown'\n",
    "                    results[movie_id] = validated_country\n",
    "                    \n",
    "            except (json.JSONDecodeError, ValueError) as e:\n",
    "                print(f\"Error parsing JSON response for batch {i//batch_size + 1}: {e}\")\n",
    "                print(f\"Response was: {response_text}\")\n",
    "                # Fallback: assign Unknown to all movies in this batch\n",
    "                for movie in movie_data:\n",
    "                    results[movie['id']] = 'Unknown'\n",
    "                    \n",
    "        except Exception as e:\n",
    "            print(f\"Error processing batch {i//batch_size + 1}: {e}\")\n",
    "            # Fallback: assign Unknown to all movies in this batch\n",
    "            for movie in movie_data:\n",
    "                results[movie['id']] = 'Unknown'\n",
    "    \n",
    "    return results\n",
    "\n",
    "print(\"Batch country inference function created successfully!\")\n",
    "print(f\"Will process {len(df)} movies in batches of 50 (approximately {len(df)//50 + 1} API requests)\")"
   ]
  },
  {
   "cell_type": "code",
   "execution_count": null,
   "id": "c851fa7f",
   "metadata": {},
   "outputs": [],
   "source": [
    "# Apply batch country inference\n",
    "print(\"Starting batch country inference...\")\n",
    "country_results = infer_countries_batch(df, batch_size=50)\n",
    "\n",
    "# Map results back to dataframe using ID\n",
    "df['Country'] = df['ID'].map(country_results)\n",
    "\n",
    "# Verify results\n",
    "print(f\"\\nCountry inference completed!\")\n",
    "print(f\"Total movies processed: {len(df)}\")\n",
    "print(f\"Countries found: {len([c for c in df['Country'] if c != 'Unknown'])}\")\n",
    "print(f\"Unknown countries: {len([c for c in df['Country'] if c == 'Unknown'])}\")\n",
    "\n",
    "# Show distribution of countries\n",
    "print(\"\\nCountry distribution:\")\n",
    "print(df['Country'].value_counts().head(10))"
   ]
  },
  {
   "cell_type": "code",
   "execution_count": null,
   "id": "lfs0ssju48",
   "metadata": {},
   "outputs": [],
   "source": [
    "# Test with a small sample first to validate the approach\n",
    "print(\"Testing batch approach with first 5 movies...\")\n",
    "\n",
    "# Create a small test dataframe\n",
    "test_df = df.head(5).copy()\n",
    "test_results = infer_countries_batch(test_df, batch_size=5)\n",
    "\n",
    "print(f\"Test results: {test_results}\")\n",
    "print(\"\\nSample movies and their inferred countries:\")\n",
    "for _, row in test_df.iterrows():\n",
    "    movie_id = row['ID']\n",
    "    title = row['Series_Title']\n",
    "    director = row['Director_Name']\n",
    "    country = test_results.get(movie_id, 'Unknown')\n",
    "    print(f\"ID {movie_id}: '{title}' by {director} -> {country}\")"
   ]
  },
  {
   "cell_type": "markdown",
   "id": "7fac2e6e",
   "metadata": {},
   "source": [
    "====================================="
   ]
  },
  {
   "cell_type": "markdown",
   "id": "4bab27e5",
   "metadata": {},
   "source": [
    "https://docs.google.com/document/d/1HNaIX8a1rqtNvj0xQJNNJ9jK4zM_AZw1Vr96yaS7nWY/edit?tab=t.0#heading=h.ixompnlae5qn"
   ]
  },
  {
   "cell_type": "markdown",
   "id": "a09a10d9",
   "metadata": {},
   "source": [
    "Todo: \n",
    "1. Overview\n",
    "    - Background and Overview\n",
    "    - Probelm Statement\n",
    "    - Research Question\n",
    "    - Methodology\n",
    "    - Data Collection\n",
    "    - Data Description\n",
    "    - Data Collection Procedures\n",
    "2. Exploratory Data Analysis EDA\n",
    "3. Descriptive Analysis  \n",
    "    - Introduction\n",
    "    - Continuous Variables\n",
    "    - Categorical Variables\n",
    "    - Bivariate Analysis\n",
    "        - Continuous Variable Against Target Variable\n",
    "        - T-Test (Continuous Variable)\n",
    "        - Categorical Variable Against Target Variable\n",
    "        - Chi Square Test for Categorical Variables\n",
    "        - Correlation\n",
    "    - Graphs and Charts \n",
    "4. DATA VISUALIZATION\n",
    "    - Demographic\n",
    "    - Summary\n",
    "5. PRESCRIPTIVE ANALYTICS\n",
    "    - Introduction \n",
    "    - Model Performance Evaluation\n",
    "    - Confusion Matrix\n",
    "    - Classification Metrics\n",
    "    - Accuracy and AUC\n",
    "    - Feature Importance (Model Coefficients)\n",
    "    - Prescriptive Analytics Recommendations\n",
    "    - SmartPLS Model: Structural Relationship Analysis\n",
    "    - Influence on Default Risk\n",
    "    - Latent Variable Composition\n",
    "    - Practical Implications\n",
    "    - Integration with Logistic Regression Findings\n",
    "    - Conclusion\n",
    "6. Discussions\n",
    "    - Descriptive Analysis\n",
    "    - Data Visualisation\n",
    "    - Predictive Analysis\n",
    "7. RECOMMENDATIONS\n",
    "    - Execute Risk-Based Monitoring Utilizing Payment History\n",
    "    - Modify Credit Limits According to Utilization and Repayment Patterns\n",
    "    - Integrate sophisticated machine learning models to enhance precision.\n",
    "    - Guarantee Ethical Utilization of Predictive Analytics via Fairness Audits\n",
    "\n",
    "\n",
    "\n",
    "\n",
    "\n",
    "\n",
    "\n",
    "\n",
    "\n",
    "\n",
    "\n",
    "\n",
    "\n",
    "\n",
    "\n",
    "\n"
   ]
  },
  {
   "cell_type": "markdown",
   "id": "deb60ccd",
   "metadata": {},
   "source": []
  },
  {
   "cell_type": "markdown",
   "id": "bef2b9eb",
   "metadata": {},
   "source": [
    "Recommended Structure for a Jupyter Analysis Notebook\n",
    "\n",
    "### Title & Introduction\n",
    "\n",
    "Short, clear project title\n",
    "\n",
    "Brief background about the dataset/problem\n",
    "\n",
    "The key questions you want to answer\n",
    "\n",
    "### Objectives / Research Questions\n",
    "\n",
    "Define what you want to investigate (e.g., “Which factors influence sales performance?”)\n",
    "\n",
    "State hypotheses if relevant\n",
    "\n",
    "### Data Understanding\n",
    "\n",
    "Data source (where it comes from)\n",
    "\n",
    "Dataset description (size, variables, what each means)\n",
    "\n",
    "Any business/real-world context\n",
    "\n",
    "### Data Loading & Setup\n",
    "\n",
    "Import libraries\n",
    "\n",
    "Load dataset(s)\n",
    "\n",
    "Quick look at raw data (first rows, dimensions)\n",
    "\n",
    "### Data Cleaning & Preprocessing\n",
    "\n",
    "Handle missing values\n",
    "\n",
    "Remove duplicates\n",
    "\n",
    "Data type conversions (e.g., dates, categories)\n",
    "\n",
    "Outlier detection & handling\n",
    "\n",
    "Feature engineering (if needed)\n",
    "\n",
    "### Exploratory Data Analysis (EDA)\n",
    "\n",
    "Summary statistics (mean, median, distributions)\n",
    "\n",
    "Visualizations (histograms, bar plots, scatter plots, boxplots, correlations)\n",
    "\n",
    "Key insights discovered\n",
    "\n",
    "### Data Visualization for Insights\n",
    "\n",
    "Advanced visuals: heatmaps, time series plots, interactive charts (Plotly, Seaborn, etc.)\n",
    "\n",
    "Explain what each visualization means in context\n",
    "\n",
    "### Analysis / Modeling (Optional, depending on your goal)\n",
    "\n",
    "If you want to show machine learning: regression, classification, clustering, etc.\n",
    "\n",
    "If pure business analytics: trends, comparisons, KPI calculations\n",
    "\n",
    "### Evaluation & Validation (if modeling)\n",
    "\n",
    "Model metrics (accuracy, RMSE, confusion matrix, etc.)\n",
    "\n",
    "Compare models if you tried more than one\n",
    "\n",
    "### Business Insights & Interpretation\n",
    "\n",
    "Translate numbers/graphs into business meaning\n",
    "\n",
    "What does the analysis suggest?\n",
    "\n",
    "Which hypotheses were confirmed/refuted?\n",
    "\n",
    "### Conclusion & Recommendations\n",
    "\n",
    "Key takeaways from the analysis\n",
    "\n",
    "Actionable recommendations (if this were for a stakeholder)\n",
    "\n",
    "### Next Steps / Limitations\n",
    "\n",
    "Mention limitations of data/analysis\n",
    "\n",
    "Suggest future improvements or additional data that would help\n",
    "\n",
    "### Appendix (Optional)\n",
    "\n",
    "Extra charts, code snippets, references"
   ]
  }
 ],
 "metadata": {
  "kernelspec": {
   "display_name": "Python 3 (ipykernel)",
   "language": "python",
   "name": "python3"
  },
  "language_info": {
   "codemirror_mode": {
    "name": "ipython",
    "version": 3
   },
   "file_extension": ".py",
   "mimetype": "text/x-python",
   "name": "python",
   "nbconvert_exporter": "python",
   "pygments_lexer": "ipython3",
   "version": "3.13.2"
  }
 },
 "nbformat": 4,
 "nbformat_minor": 5
}
